{
 "cells": [
  {
   "cell_type": "code",
   "execution_count": 24,
   "metadata": {},
   "outputs": [
    {
     "ename": "KeyError",
     "evalue": "'df1'",
     "output_type": "error",
     "traceback": [
      "\u001b[1;31m---------------------------------------------------------------------------\u001b[0m",
      "\u001b[1;31mKeyError\u001b[0m                                  Traceback (most recent call last)",
      "File \u001b[1;32m~\\AppData\\Roaming\\Python\\Python38\\site-packages\\pandas\\core\\indexes\\base.py:3653\u001b[0m, in \u001b[0;36mIndex.get_loc\u001b[1;34m(self, key)\u001b[0m\n\u001b[0;32m   3652\u001b[0m \u001b[38;5;28;01mtry\u001b[39;00m:\n\u001b[1;32m-> 3653\u001b[0m     \u001b[38;5;28;01mreturn\u001b[39;00m \u001b[38;5;28;43mself\u001b[39;49m\u001b[38;5;241;43m.\u001b[39;49m\u001b[43m_engine\u001b[49m\u001b[38;5;241;43m.\u001b[39;49m\u001b[43mget_loc\u001b[49m\u001b[43m(\u001b[49m\u001b[43mcasted_key\u001b[49m\u001b[43m)\u001b[49m\n\u001b[0;32m   3654\u001b[0m \u001b[38;5;28;01mexcept\u001b[39;00m \u001b[38;5;167;01mKeyError\u001b[39;00m \u001b[38;5;28;01mas\u001b[39;00m err:\n",
      "File \u001b[1;32m~\\AppData\\Roaming\\Python\\Python38\\site-packages\\pandas\\_libs\\index.pyx:147\u001b[0m, in \u001b[0;36mpandas._libs.index.IndexEngine.get_loc\u001b[1;34m()\u001b[0m\n",
      "File \u001b[1;32m~\\AppData\\Roaming\\Python\\Python38\\site-packages\\pandas\\_libs\\index.pyx:176\u001b[0m, in \u001b[0;36mpandas._libs.index.IndexEngine.get_loc\u001b[1;34m()\u001b[0m\n",
      "File \u001b[1;32mpandas\\_libs\\hashtable_class_helper.pxi:7080\u001b[0m, in \u001b[0;36mpandas._libs.hashtable.PyObjectHashTable.get_item\u001b[1;34m()\u001b[0m\n",
      "File \u001b[1;32mpandas\\_libs\\hashtable_class_helper.pxi:7088\u001b[0m, in \u001b[0;36mpandas._libs.hashtable.PyObjectHashTable.get_item\u001b[1;34m()\u001b[0m\n",
      "\u001b[1;31mKeyError\u001b[0m: 'df1'",
      "\nThe above exception was the direct cause of the following exception:\n",
      "\u001b[1;31mKeyError\u001b[0m                                  Traceback (most recent call last)",
      "Cell \u001b[1;32mIn[24], line 36\u001b[0m\n\u001b[0;32m     25\u001b[0m anova_results \u001b[38;5;241m=\u001b[39m pg\u001b[38;5;241m.\u001b[39mmixed_anova(\n\u001b[0;32m     26\u001b[0m     dv\u001b[38;5;241m=\u001b[39m\u001b[38;5;124m'\u001b[39m\u001b[38;5;124mHITS\u001b[39m\u001b[38;5;124m'\u001b[39m, \u001b[38;5;66;03m# Dependent variable\u001b[39;00m\n\u001b[0;32m     27\u001b[0m     within\u001b[38;5;241m=\u001b[39m\u001b[38;5;124m'\u001b[39m\u001b[38;5;124mtime_block\u001b[39m\u001b[38;5;124m'\u001b[39m, \u001b[38;5;66;03m# Repeated measure (within-subject)\u001b[39;00m\n\u001b[1;32m   (...)\u001b[0m\n\u001b[0;32m     30\u001b[0m     data\u001b[38;5;241m=\u001b[39mtidy_data_clean\n\u001b[0;32m     31\u001b[0m )\n\u001b[0;32m     33\u001b[0m \u001b[38;5;66;03m# Calculate generalized eta-squared for effect size\u001b[39;00m\n\u001b[0;32m     34\u001b[0m anova_results[\u001b[38;5;124m'\u001b[39m\u001b[38;5;124mgeneralized_eta_sq\u001b[39m\u001b[38;5;124m'\u001b[39m] \u001b[38;5;241m=\u001b[39m pg\u001b[38;5;241m.\u001b[39mcompute_effsize(\n\u001b[0;32m     35\u001b[0m     anova_results[\u001b[38;5;124m'\u001b[39m\u001b[38;5;124mF\u001b[39m\u001b[38;5;124m'\u001b[39m], \n\u001b[1;32m---> 36\u001b[0m     \u001b[43manova_results\u001b[49m\u001b[43m[\u001b[49m\u001b[38;5;124;43m'\u001b[39;49m\u001b[38;5;124;43mdf1\u001b[39;49m\u001b[38;5;124;43m'\u001b[39;49m\u001b[43m]\u001b[49m, \n\u001b[0;32m     37\u001b[0m     anova_results[\u001b[38;5;124m'\u001b[39m\u001b[38;5;124mdf2\u001b[39m\u001b[38;5;124m'\u001b[39m], \n\u001b[0;32m     38\u001b[0m     eftype\u001b[38;5;241m=\u001b[39m\u001b[38;5;124m'\u001b[39m\u001b[38;5;124mgeneralized_eta_squared\u001b[39m\u001b[38;5;124m'\u001b[39m\n\u001b[0;32m     39\u001b[0m )\n\u001b[0;32m     41\u001b[0m \u001b[38;5;66;03m# Post-hoc analysis with Bonferroni correction if main effects or interactions are significant\u001b[39;00m\n\u001b[0;32m     42\u001b[0m posthoc_results \u001b[38;5;241m=\u001b[39m \u001b[38;5;28;01mNone\u001b[39;00m\n",
      "File \u001b[1;32m~\\AppData\\Roaming\\Python\\Python38\\site-packages\\pandas\\core\\frame.py:3761\u001b[0m, in \u001b[0;36mDataFrame.__getitem__\u001b[1;34m(self, key)\u001b[0m\n\u001b[0;32m   3759\u001b[0m \u001b[38;5;28;01mif\u001b[39;00m \u001b[38;5;28mself\u001b[39m\u001b[38;5;241m.\u001b[39mcolumns\u001b[38;5;241m.\u001b[39mnlevels \u001b[38;5;241m>\u001b[39m \u001b[38;5;241m1\u001b[39m:\n\u001b[0;32m   3760\u001b[0m     \u001b[38;5;28;01mreturn\u001b[39;00m \u001b[38;5;28mself\u001b[39m\u001b[38;5;241m.\u001b[39m_getitem_multilevel(key)\n\u001b[1;32m-> 3761\u001b[0m indexer \u001b[38;5;241m=\u001b[39m \u001b[38;5;28;43mself\u001b[39;49m\u001b[38;5;241;43m.\u001b[39;49m\u001b[43mcolumns\u001b[49m\u001b[38;5;241;43m.\u001b[39;49m\u001b[43mget_loc\u001b[49m\u001b[43m(\u001b[49m\u001b[43mkey\u001b[49m\u001b[43m)\u001b[49m\n\u001b[0;32m   3762\u001b[0m \u001b[38;5;28;01mif\u001b[39;00m is_integer(indexer):\n\u001b[0;32m   3763\u001b[0m     indexer \u001b[38;5;241m=\u001b[39m [indexer]\n",
      "File \u001b[1;32m~\\AppData\\Roaming\\Python\\Python38\\site-packages\\pandas\\core\\indexes\\base.py:3655\u001b[0m, in \u001b[0;36mIndex.get_loc\u001b[1;34m(self, key)\u001b[0m\n\u001b[0;32m   3653\u001b[0m     \u001b[38;5;28;01mreturn\u001b[39;00m \u001b[38;5;28mself\u001b[39m\u001b[38;5;241m.\u001b[39m_engine\u001b[38;5;241m.\u001b[39mget_loc(casted_key)\n\u001b[0;32m   3654\u001b[0m \u001b[38;5;28;01mexcept\u001b[39;00m \u001b[38;5;167;01mKeyError\u001b[39;00m \u001b[38;5;28;01mas\u001b[39;00m err:\n\u001b[1;32m-> 3655\u001b[0m     \u001b[38;5;28;01mraise\u001b[39;00m \u001b[38;5;167;01mKeyError\u001b[39;00m(key) \u001b[38;5;28;01mfrom\u001b[39;00m \u001b[38;5;21;01merr\u001b[39;00m\n\u001b[0;32m   3656\u001b[0m \u001b[38;5;28;01mexcept\u001b[39;00m \u001b[38;5;167;01mTypeError\u001b[39;00m:\n\u001b[0;32m   3657\u001b[0m     \u001b[38;5;66;03m# If we have a listlike key, _check_indexing_error will raise\u001b[39;00m\n\u001b[0;32m   3658\u001b[0m     \u001b[38;5;66;03m#  InvalidIndexError. Otherwise we fall through and re-raise\u001b[39;00m\n\u001b[0;32m   3659\u001b[0m     \u001b[38;5;66;03m#  the TypeError.\u001b[39;00m\n\u001b[0;32m   3660\u001b[0m     \u001b[38;5;28mself\u001b[39m\u001b[38;5;241m.\u001b[39m_check_indexing_error(key)\n",
      "\u001b[1;31mKeyError\u001b[0m: 'df1'"
     ]
    }
   ],
   "source": [
    "import pingouin as pg\n",
    "import numpy as np\n",
    "import pandas as pd\n",
    "\n",
    "# Load the provided Excel file to examine its contents\n",
    "file_path = 'Sat9surrond.xlsx'\n",
    "xls = pd.ExcelFile(file_path)\n",
    "\n",
    "# Check the sheet names to identify where the \"Tidy\" data is located\n",
    "xls.sheet_names\n",
    "\n",
    "\n",
    "# Load the 'Tidy' sheet to analyze the data\n",
    "tidy_data = pd.read_excel(file_path, sheet_name='tidy')\n",
    "\n",
    "# Display the first few rows of the dataset to understand its structure\n",
    "tidy_data_clean.head()\n",
    "\n",
    "\n",
    "# Prepare the data for the mixed-design ANOVA\n",
    "# We need to ensure that HITS column is numeric\n",
    "tidy_data_clean['HITS'] = pd.to_numeric(tidy_data['HITS'], errors='coerce')\n",
    "\n",
    "# Perform mixed-design ANOVA: between-subject factor is 'Phenotype', within-subject is 'time_block' and 'Stimulus_duration'\n",
    "anova_results = pg.mixed_anova(\n",
    "    dv='HITS', # Dependent variable\n",
    "    within='time_block', # Repeated measure (within-subject)\n",
    "    between='Phenotype', # Between-subject factor\n",
    "    subject='animal', # Each animal represents a subject\n",
    "    data=tidy_data_clean\n",
    ")\n",
    "\n",
    "# Calculate generalized eta-squared for effect size\n",
    "anova_results['generalized_eta_sq'] = pg.compute_effsize(\n",
    "    anova_results['F'], \n",
    "    anova_results['df1'], \n",
    "    anova_results['df2'], \n",
    "    eftype='generalized_eta_squared'\n",
    ")\n",
    "\n",
    "# Post-hoc analysis with Bonferroni correction if main effects or interactions are significant\n",
    "posthoc_results = None\n",
    "if anova_results['p-unc'].min() < 0.05:\n",
    "    posthoc_results = pg.pairwise_tests(\n",
    "        dv='HITS', \n",
    "        within='time_block', \n",
    "        subject='animal', \n",
    "        between='Phenotype', \n",
    "        data=tidy_data, \n",
    "        padjust='bonferroni'\n",
    "    )\n",
    "\n",
    "anova_results, posthoc_results\n"
   ]
  },
  {
   "cell_type": "code",
   "execution_count": 21,
   "metadata": {},
   "outputs": [
    {
     "name": "stdout",
     "output_type": "stream",
     "text": [
      "Phenotype              0\n",
      "animal                 0\n",
      "time_block            17\n",
      "Stimulus_duration     17\n",
      "CR                   663\n",
      "FA                   646\n",
      "HITS                 646\n",
      "Misses               646\n",
      "OM                   663\n",
      "dtype: int64\n"
     ]
    }
   ],
   "source": [
    "# Check for missing values\n",
    "print(tidy_data.isnull().sum())\n",
    "\n",
    "# Optionally, drop rows with missing values in the 'HITS' column\n",
    "tidy_data_clean = tidy_data.dropna(subset=['HITS'])\n"
   ]
  },
  {
   "cell_type": "code",
   "execution_count": 7,
   "metadata": {},
   "outputs": [
    {
     "name": "stderr",
     "output_type": "stream",
     "text": [
      "C:\\Users\\pfh3221\\AppData\\Local\\Temp\\ipykernel_24940\\3459616901.py:2: SettingWithCopyWarning: \n",
      "A value is trying to be set on a copy of a slice from a DataFrame.\n",
      "Try using .loc[row_indexer,col_indexer] = value instead\n",
      "\n",
      "See the caveats in the documentation: https://pandas.pydata.org/pandas-docs/stable/user_guide/indexing.html#returning-a-view-versus-a-copy\n",
      "  tidy_data_clean['Phenotype'] = tidy_data_clean['Phenotype'].astype('category')\n",
      "C:\\Users\\pfh3221\\AppData\\Local\\Temp\\ipykernel_24940\\3459616901.py:3: SettingWithCopyWarning: \n",
      "A value is trying to be set on a copy of a slice from a DataFrame.\n",
      "Try using .loc[row_indexer,col_indexer] = value instead\n",
      "\n",
      "See the caveats in the documentation: https://pandas.pydata.org/pandas-docs/stable/user_guide/indexing.html#returning-a-view-versus-a-copy\n",
      "  tidy_data_clean['time_block'] = tidy_data_clean['time_block'].astype('category')\n",
      "C:\\Users\\pfh3221\\AppData\\Local\\Temp\\ipykernel_24940\\3459616901.py:4: SettingWithCopyWarning: \n",
      "A value is trying to be set on a copy of a slice from a DataFrame.\n",
      "Try using .loc[row_indexer,col_indexer] = value instead\n",
      "\n",
      "See the caveats in the documentation: https://pandas.pydata.org/pandas-docs/stable/user_guide/indexing.html#returning-a-view-versus-a-copy\n",
      "  tidy_data_clean['Stimulus_duration'] = tidy_data_clean['Stimulus_duration'].astype('category')\n"
     ]
    }
   ],
   "source": [
    "# Convert columns to categorical if needed\n",
    "tidy_data_clean['Phenotype'] = tidy_data_clean['Phenotype'].astype('category')\n",
    "tidy_data_clean['time_block'] = tidy_data_clean['time_block'].astype('category')\n",
    "tidy_data_clean['Stimulus_duration'] = tidy_data_clean['Stimulus_duration'].astype('category')\n"
   ]
  },
  {
   "cell_type": "code",
   "execution_count": 6,
   "metadata": {},
   "outputs": [
    {
     "name": "stdout",
     "output_type": "stream",
     "text": [
      "Phenotype              0\n",
      "animal                 0\n",
      "time_block             0\n",
      "Stimulus_duration      0\n",
      "CR                   272\n",
      "FA                   272\n",
      "HITS                   0\n",
      "Misses               272\n",
      "OM                   272\n",
      "dtype: int64\n"
     ]
    }
   ],
   "source": [
    "# Drop rows where 'HITS', 'time_block', or 'Stimulus_duration' are missing\n",
    "tidy_data_clean = tidy_data.dropna(subset=['HITS', 'time_block', 'Stimulus_duration'])\n",
    "\n",
    "# Check the cleaned data\n",
    "print(tidy_data_clean.isnull().sum())\n"
   ]
  },
  {
   "cell_type": "code",
   "execution_count": 11,
   "metadata": {},
   "outputs": [
    {
     "name": "stdout",
     "output_type": "stream",
     "text": [
      "float64\n",
      "0\n"
     ]
    }
   ],
   "source": [
    "# Convert 'HITS' to numeric, coercing any non-numeric values to NaN\n",
    "tidy_data_clean['HITS'] = pd.to_numeric(tidy_data_clean['HITS'], errors='coerce')\n",
    "\n",
    "# Check if the conversion worked and see if there are any remaining non-numeric entries\n",
    "print(tidy_data_clean['HITS'].dtype)\n",
    "print(tidy_data_clean['HITS'].isnull().sum())\n"
   ]
  },
  {
   "cell_type": "code",
   "execution_count": 22,
   "metadata": {},
   "outputs": [
    {
     "name": "stdout",
     "output_type": "stream",
     "text": [
      "['GT' 'IN' 'ST']\n",
      "[\"'min 1 à 4'\" \"'min 12 à 16'\" \"'min 16 à 20'\" \"'min 20 à 24'\"\n",
      " \"'min 28 à 32'\" \"'min 32 à 36'\" \"'min 36 à 40'\" \"'min 8 à 12'\" nan]\n",
      "[\"'CUE25msec'\" \"'CUE500msec'\" \"'CUE50msec'\" \"'Nocue'\" \"'CUE500msec'''\"\n",
      " \"'CUE50msec'''\" nan]\n"
     ]
    }
   ],
   "source": [
    "# Check for unique values of each factor\n",
    "print(tidy_data_clean['Phenotype'].unique())\n",
    "print(tidy_data_clean['time_block'].unique())\n",
    "print(tidy_data_clean['Stimulus_duration'].unique())\n"
   ]
  },
  {
   "cell_type": "code",
   "execution_count": 23,
   "metadata": {},
   "outputs": [
    {
     "name": "stdout",
     "output_type": "stream",
     "text": [
      "Phenotype            category\n",
      "animal                float64\n",
      "time_block           category\n",
      "Stimulus_duration    category\n",
      "CR                    float64\n",
      "FA                     object\n",
      "HITS                  float64\n",
      "Misses                 object\n",
      "OM                    float64\n",
      "dtype: object\n"
     ]
    },
    {
     "name": "stderr",
     "output_type": "stream",
     "text": [
      "C:\\Users\\pfh3221\\AppData\\Local\\Temp\\ipykernel_24940\\2559119940.py:2: SettingWithCopyWarning: \n",
      "A value is trying to be set on a copy of a slice from a DataFrame.\n",
      "Try using .loc[row_indexer,col_indexer] = value instead\n",
      "\n",
      "See the caveats in the documentation: https://pandas.pydata.org/pandas-docs/stable/user_guide/indexing.html#returning-a-view-versus-a-copy\n",
      "  tidy_data_clean['Phenotype'] = tidy_data_clean['Phenotype'].astype('category')\n",
      "C:\\Users\\pfh3221\\AppData\\Local\\Temp\\ipykernel_24940\\2559119940.py:3: SettingWithCopyWarning: \n",
      "A value is trying to be set on a copy of a slice from a DataFrame.\n",
      "Try using .loc[row_indexer,col_indexer] = value instead\n",
      "\n",
      "See the caveats in the documentation: https://pandas.pydata.org/pandas-docs/stable/user_guide/indexing.html#returning-a-view-versus-a-copy\n",
      "  tidy_data_clean['time_block'] = tidy_data_clean['time_block'].astype('category')\n",
      "C:\\Users\\pfh3221\\AppData\\Local\\Temp\\ipykernel_24940\\2559119940.py:4: SettingWithCopyWarning: \n",
      "A value is trying to be set on a copy of a slice from a DataFrame.\n",
      "Try using .loc[row_indexer,col_indexer] = value instead\n",
      "\n",
      "See the caveats in the documentation: https://pandas.pydata.org/pandas-docs/stable/user_guide/indexing.html#returning-a-view-versus-a-copy\n",
      "  tidy_data_clean['Stimulus_duration'] = tidy_data_clean['Stimulus_duration'].astype('category')\n",
      "C:\\Users\\pfh3221\\AppData\\Local\\Temp\\ipykernel_24940\\2559119940.py:7: SettingWithCopyWarning: \n",
      "A value is trying to be set on a copy of a slice from a DataFrame.\n",
      "Try using .loc[row_indexer,col_indexer] = value instead\n",
      "\n",
      "See the caveats in the documentation: https://pandas.pydata.org/pandas-docs/stable/user_guide/indexing.html#returning-a-view-versus-a-copy\n",
      "  tidy_data_clean['HITS'] = pd.to_numeric(tidy_data_clean['HITS'], errors='coerce')\n"
     ]
    }
   ],
   "source": [
    "# Convert categorical variables to 'category' type\n",
    "tidy_data_clean['Phenotype'] = tidy_data_clean['Phenotype'].astype('category')\n",
    "tidy_data_clean['time_block'] = tidy_data_clean['time_block'].astype('category')\n",
    "tidy_data_clean['Stimulus_duration'] = tidy_data_clean['Stimulus_duration'].astype('category')\n",
    "\n",
    "# Ensure 'HITS' is numeric\n",
    "tidy_data_clean['HITS'] = pd.to_numeric(tidy_data_clean['HITS'], errors='coerce')\n",
    "\n",
    "# Check the data types\n",
    "print(tidy_data_clean.dtypes)\n"
   ]
  },
  {
   "cell_type": "code",
   "execution_count": 19,
   "metadata": {},
   "outputs": [
    {
     "name": "stdout",
     "output_type": "stream",
     "text": [
      "Phenotype            category\n",
      "animal                 object\n",
      "time_block           category\n",
      "Stimulus_duration    category\n",
      "CR                    float64\n",
      "FA                    float64\n",
      "HITS                  float64\n",
      "Misses                float64\n",
      "OM                    float64\n",
      "dtype: object\n"
     ]
    }
   ],
   "source": [
    "# Convert 'animal' to a string, since it's a label and not a numeric variable\n",
    "tidy_data_clean['animal'] = tidy_data_clean['animal'].astype(str)\n",
    "\n",
    "# Convert 'FA' and 'Misses' to numeric (float64), coercing any non-numeric values to NaN\n",
    "tidy_data_clean['FA'] = pd.to_numeric(tidy_data_clean['FA'], errors='coerce')\n",
    "tidy_data_clean['Misses'] = pd.to_numeric(tidy_data_clean['Misses'], errors='coerce')\n",
    "\n",
    "# Verify the changes\n",
    "print(tidy_data_clean.dtypes)\n"
   ]
  },
  {
   "cell_type": "code",
   "execution_count": 25,
   "metadata": {},
   "outputs": [
    {
     "name": "stdout",
     "output_type": "stream",
     "text": [
      "Unique values for Phenotype:\n",
      "['GT', 'IN', 'ST']\n",
      "Categories (3, object): ['GT', 'IN', 'ST']\n",
      "Unique values for time_block:\n",
      "[''min 1 à 4'', ''min 12 à 16'', ''min 16 à 20'', ''min 20 à 24'', ''min 28 à 32'', ''min 32 à 36'', ''min 36 à 40'', ''min 8 à 12'', NaN]\n",
      "Categories (8, object): [''min 1 à 4'', ''min 12 à 16'', ''min 16 à 20'', ''min 20 à 24'', ''min 28 à 32'', ''min 32 à 36'', ''min 36 à 40'', ''min 8 à 12'']\n",
      "Unique values for Stimulus_duration:\n",
      "[''CUE25msec'', ''CUE500msec'', ''CUE50msec'', ''Nocue'', ''CUE500msec'''', ''CUE50msec'''', NaN]\n",
      "Categories (6, object): [''CUE25msec'', ''CUE500msec'', ''CUE500msec'''', ''CUE50msec'', ''CUE50msec'''', ''Nocue'']\n",
      "Phenotype             0\n",
      "animal                0\n",
      "time_block           17\n",
      "Stimulus_duration    17\n",
      "HITS                 17\n",
      "dtype: int64\n"
     ]
    }
   ],
   "source": [
    "# Check unique values for each factor\n",
    "print(\"Unique values for Phenotype:\")\n",
    "print(tidy_data_clean['Phenotype'].unique())\n",
    "\n",
    "print(\"Unique values for time_block:\")\n",
    "print(tidy_data_clean['time_block'].unique())\n",
    "\n",
    "print(\"Unique values for Stimulus_duration:\")\n",
    "print(tidy_data_clean['Stimulus_duration'].unique())\n",
    "\n",
    "# Check if there are missing values after cleaning\n",
    "print(tidy_data_clean[['Phenotype', 'animal', 'time_block', 'Stimulus_duration', 'HITS']].isnull().sum())\n"
   ]
  },
  {
   "cell_type": "code",
   "execution_count": 26,
   "metadata": {},
   "outputs": [
    {
     "name": "stdout",
     "output_type": "stream",
     "text": [
      "                          Source           SS     DF          MS           F  \\\n",
      "0                      Phenotype     4.287883    2.0    2.143941    1.233315   \n",
      "1              Stimulus_duration  1044.529746    5.0  208.905949  120.174358   \n",
      "2  Phenotype * Stimulus_duration     6.113930   10.0    0.611393    0.351707   \n",
      "3                       Residual   618.855131  356.0    1.738357         NaN   \n",
      "\n",
      "          p-unc       np2  \n",
      "0  2.925670e-01  0.006881  \n",
      "1  3.324528e-74  0.627954  \n",
      "2  9.657577e-01  0.009783  \n",
      "3           NaN       NaN  \n"
     ]
    }
   ],
   "source": [
    "# Simple ANOVA (ignoring the within-subject factor 'time_block')\n",
    "anova_simple = pg.anova(dv='HITS', between=['Phenotype', 'Stimulus_duration'], data=tidy_data_clean)\n",
    "print(anova_simple)\n"
   ]
  },
  {
   "cell_type": "code",
   "execution_count": 27,
   "metadata": {},
   "outputs": [
    {
     "name": "stdout",
     "output_type": "stream",
     "text": [
      "        Source         SS  DF1  DF2        MS          F         p-unc  \\\n",
      "0    Phenotype   0.672273    2   14  0.336136   1.015842  3.872952e-01   \n",
      "1   time_block  48.276961    7   98  6.896709  22.600925  6.041651e-18   \n",
      "2  Interaction   7.209675   14   98  0.514977   1.687610  7.033473e-02   \n",
      "\n",
      "      p-GG-corr       np2       eps sphericity   W-spher   p-spher  \n",
      "0           NaN  0.126729       NaN        NaN       NaN       NaN  \n",
      "1  1.313361e-08  0.617496  0.417711      False  0.003753  0.000003  \n",
      "2           NaN  0.194255       NaN        NaN       NaN       NaN  \n"
     ]
    }
   ],
   "source": [
    "anova_results = pg.mixed_anova(\n",
    "    dv='HITS', \n",
    "    within='time_block', \n",
    "    between='Phenotype', \n",
    "    subject='animal', \n",
    "    data=tidy_data_clean\n",
    ")\n",
    "\n",
    "# Print results\n",
    "print(anova_results)\n"
   ]
  }
 ],
 "metadata": {
  "kernelspec": {
   "display_name": "Python 3",
   "language": "python",
   "name": "python3"
  },
  "language_info": {
   "codemirror_mode": {
    "name": "ipython",
    "version": 3
   },
   "file_extension": ".py",
   "mimetype": "text/x-python",
   "name": "python",
   "nbconvert_exporter": "python",
   "pygments_lexer": "ipython3",
   "version": "3.8.10"
  }
 },
 "nbformat": 4,
 "nbformat_minor": 2
}
