{
 "cells": [
  {
   "cell_type": "markdown",
   "metadata": {},
   "source": [
    "15 sept 2024, 15:00 Fred\n",
    "Comme il manque quelques graphs et stats, j'ai pensé  le passé en python. J'ai \n",
    "commencé à écrire un script qui génère des graphs et des stats à partir des données\n",
    "de la base de données. \n",
    "Run with Python 3.8.10 ENV"
   ]
  },
  {
   "cell_type": "code",
   "execution_count": 2,
   "metadata": {},
   "outputs": [
    {
     "name": "stdout",
     "output_type": "stream",
     "text": [
      "     Column1 Phenotype  Animal No  Stimulus Duration Distractor Condition  \\\n",
      "0         51        ST      377.0                 25                  SAT   \n",
      "1         99        ST      377.0                 25                 dSAT   \n",
      "2        147        ST      377.0                 50                  SAT   \n",
      "3        219        ST      377.0                 50                 dSAT   \n",
      "4        294        ST      377.0                500                  SAT   \n",
      "..       ...       ...        ...                ...                  ...   \n",
      "315      239        ST      478.0                 50                 dSAT   \n",
      "316      334        ST      478.0                500                  SAT   \n",
      "317      335        ST      478.0                500                  SAT   \n",
      "318      430        ST      478.0                500                 dSAT   \n",
      "319      431        ST      478.0                500                 dSAT   \n",
      "\n",
      "         HITS    MISSES        FA         CR        OM  \n",
      "0    1.000000  5.333333  0.916667  19.083333  0.166667  \n",
      "1    1.625000  5.375000       NaN        NaN  0.000000  \n",
      "2    2.166667  4.583333       NaN        NaN  0.000000  \n",
      "3    1.500000  5.875000  3.750000  16.500000  0.000000  \n",
      "4    3.944444  2.333333       NaN        NaN  0.166667  \n",
      "..        ...       ...       ...        ...       ...  \n",
      "315  4.000000  3.250000  4.625000  16.375000  0.000000  \n",
      "316  3.666667  2.333333       NaN        NaN  0.000000  \n",
      "317  3.666667  2.333333       NaN        NaN  0.000000  \n",
      "318  4.375000  3.000000       NaN        NaN  0.000000  \n",
      "319  4.375000  3.000000       NaN        NaN  0.000000  \n",
      "\n",
      "[320 rows x 10 columns]\n"
     ]
    }
   ],
   "source": [
    "import pandas as pd\n",
    "\n",
    "# Read the Excel file\n",
    "file_path = 'DATA dSAT.xlsx'\n",
    "data = pd.read_excel(file_path, sheet_name='Tidy')\n",
    "\n",
    "# Print the DataFrame\n",
    "print(data)"
   ]
  },
  {
   "cell_type": "code",
   "execution_count": null,
   "metadata": {},
   "outputs": [],
   "source": [
    "# Create the mapping for stimulus duration and distractor condition for available columns\n",
    "adjusted_stimulus_durations = {\n",
    "    'HITS': [25, 25, 50, 50, 500, 500],\n",
    "    'MISSES': [25, 25, 50, 50, 500, 500],\n",
    "    'FA': [25, 50],\n",
    "    'CR': [25, 50],\n",
    "    'OM': [25, 25, 50, 50, 500, 500, 500, 500]\n",
    "}\n",
    "\n",
    "adjusted_distractor_conditions = {\n",
    "    'HITS': ['SAT', 'dSAT', 'SAT', 'dSAT', 'SAT', 'dSAT'],\n",
    "    'MISSES': ['SAT', 'dSAT', 'SAT', 'dSAT', 'SAT', 'dSAT'],\n",
    "    'FA': ['SAT', 'dSAT'],\n",
    "    'CR': ['SAT', 'dSAT'],\n",
    "    'OM': ['SAT', 'dSAT', 'SAT', 'dSAT', 'SAT', 'dSAT', 'SAT', 'dSAT']\n",
    "}\n",
    "\n",
    "# Define the columns for each measure\n",
    "all_measures_columns_adjusted = {\n",
    "    'HITS': ['HITS', 'HITS.1', 'HITS.2', 'HITS.3', 'HITS.4', 'HITS.5'],\n",
    "    'MISSES': ['MISSES', 'MISSES.1', 'MISSES.2', 'MISSES.3', 'MISSES.4', 'MISSES.5'],\n",
    "    'FA': ['FA', 'FA.1'],  # Adjusted to available FA columns\n",
    "    'CR': ['CR', 'CR.1'],  # Adjusted to available CR columns\n",
    "    'OM': ['OM', 'OM.1', 'OM.2', 'OM.3', 'OM.4', 'OM.5', 'OM.6', 'OM.7']  # OM has additional columns\n",
    "}\n",
    "\n",
    "# Re-run the process to reorganize the data into a single tidy dataframe with more robust mapping\n",
    "all_measures_long_fixed = pd.DataFrame()\n",
    "\n",
    "for measure, columns in all_measures_columns_adjusted.items():\n",
    "    # Reshape each measure to long format\n",
    "    measure_long = satmerged_data[['Phenotype', 'Animal No'] + columns].melt(\n",
    "        id_vars=['Phenotype', 'Animal No'], value_vars=columns, \n",
    "        var_name='Condition', value_name=measure\n",
    "    )\n",
    "    \n",
    "    # Apply the mapping for stimulus duration and distractor condition\n",
    "    measure_long['Stimulus Duration'] = measure_long['Condition'].apply(\n",
    "        lambda x: adjusted_stimulus_durations[measure][int(x.split('.')[-1]) if '.' in x else 0]\n",
    "    )\n",
    "    measure_long['Distractor Condition'] = measure_long['Condition'].apply(\n",
    "        lambda x: adjusted_distractor_conditions[measure][int(x.split('.')[-1]) if '.' in x else 0]\n",
    "    )\n",
    "    \n",
    "    # Drop the old 'Condition' column\n",
    "    measure_long = measure_long.drop(columns=['Condition'])\n",
    "    \n",
    "    # Merge the measures together\n",
    "    if all_measures_long_fixed.empty:\n",
    "        all_measures_long_fixed = measure_long\n",
    "    else:\n",
    "        all_measures_long_fixed = pd.merge(all_measures_long_fixed, measure_long, \n",
    "                                           on=['Phenotype', 'Animal No', 'Stimulus Duration', 'Distractor Condition'], \n",
    "                                           how='outer')\n",
    "\n",
    "# Now you have the final tidy data in all_measures_long_fixed\n"
   ]
  },
  {
   "cell_type": "code",
   "execution_count": 3,
   "metadata": {},
   "outputs": [
    {
     "ename": "NameError",
     "evalue": "name 'plt' is not defined",
     "output_type": "error",
     "traceback": [
      "\u001b[1;31m---------------------------------------------------------------------------\u001b[0m",
      "\u001b[1;31mNameError\u001b[0m                                 Traceback (most recent call last)",
      "Cell \u001b[1;32mIn[3], line 2\u001b[0m\n\u001b[0;32m      1\u001b[0m \u001b[38;5;66;03m# I'll recreate the plot and explicitly set the x-axis as categorical labels to ensure even spacing\u001b[39;00m\n\u001b[1;32m----> 2\u001b[0m \u001b[43mplt\u001b[49m\u001b[38;5;241m.\u001b[39mfigure(figsize\u001b[38;5;241m=\u001b[39m(\u001b[38;5;241m10\u001b[39m, \u001b[38;5;241m6\u001b[39m))\n\u001b[0;32m      4\u001b[0m \u001b[38;5;66;03m# Create a categorical version of the stimulus durations for even spacing\u001b[39;00m\n\u001b[0;32m      5\u001b[0m data[\u001b[38;5;124m'\u001b[39m\u001b[38;5;124mStimulus Duration Label\u001b[39m\u001b[38;5;124m'\u001b[39m] \u001b[38;5;241m=\u001b[39m data[\u001b[38;5;124m'\u001b[39m\u001b[38;5;124mStimulus Duration\u001b[39m\u001b[38;5;124m'\u001b[39m]\u001b[38;5;241m.\u001b[39mmap({\u001b[38;5;241m25\u001b[39m: \u001b[38;5;124m'\u001b[39m\u001b[38;5;124m25 ms\u001b[39m\u001b[38;5;124m'\u001b[39m, \u001b[38;5;241m50\u001b[39m: \u001b[38;5;124m'\u001b[39m\u001b[38;5;124m50 ms\u001b[39m\u001b[38;5;124m'\u001b[39m, \u001b[38;5;241m500\u001b[39m: \u001b[38;5;124m'\u001b[39m\u001b[38;5;124m500 ms\u001b[39m\u001b[38;5;124m'\u001b[39m})\n",
      "\u001b[1;31mNameError\u001b[0m: name 'plt' is not defined"
     ]
    }
   ],
   "source": [
    "# I'll recreate the plot and explicitly set the x-axis as categorical labels to ensure even spacing\n",
    "plt.figure(figsize=(10, 6))\n",
    "\n",
    "# Create a categorical version of the stimulus durations for even spacing\n",
    "data['Stimulus Duration Label'] = data['Stimulus Duration'].map({25: '25 ms', 50: '50 ms', 500: '500 ms'})\n",
    "\n",
    "# Lineplot for HITS, with different phenotypes and line styles for distractor conditions\n",
    "sns.lineplot(\n",
    "    x='Stimulus Duration Label', \n",
    "    y='HITS', \n",
    "    hue='Phenotype', \n",
    "    style='Distractor Condition', \n",
    "    markers=True, \n",
    "    dashes=[(2, 2), (1, 0)],  # Dashed for dSAT, solid for SAT\n",
    "    data=data,\n",
    "    palette='Set1'\n",
    ")\n",
    "\n",
    "# Add title and labels\n",
    "plt.title('HITS by Stimulus Duration, Phenotype, and Distractor Condition')\n",
    "plt.xlabel('Stimulus Duration')\n",
    "plt.ylabel('HITS')\n",
    "\n",
    "# Display the plot\n",
    "plt.show()\n"
   ]
  },
  {
   "cell_type": "code",
   "execution_count": 3,
   "metadata": {},
   "outputs": [
    {
     "ename": "TypeError",
     "evalue": "rm_anova() got an unexpected keyword argument 'between'",
     "output_type": "error",
     "traceback": [
      "\u001b[1;31m---------------------------------------------------------------------------\u001b[0m",
      "\u001b[1;31mTypeError\u001b[0m                                 Traceback (most recent call last)",
      "Cell \u001b[1;32mIn[3], line 12\u001b[0m\n\u001b[0;32m      8\u001b[0m tidy_hits_data \u001b[38;5;241m=\u001b[39m data\u001b[38;5;241m.\u001b[39mdropna(subset\u001b[38;5;241m=\u001b[39m[\u001b[38;5;124m'\u001b[39m\u001b[38;5;124mHITS\u001b[39m\u001b[38;5;124m'\u001b[39m])\n\u001b[0;32m     10\u001b[0m \u001b[38;5;66;03m# Run the repeated measures ANOVA using pingouin\u001b[39;00m\n\u001b[0;32m     11\u001b[0m \u001b[38;5;66;03m# 'Stimulus Duration' and 'Distractor Condition' are within-subject factors, 'Phenotype' is a between-subject factor\u001b[39;00m\n\u001b[1;32m---> 12\u001b[0m rm_anova_results \u001b[38;5;241m=\u001b[39m \u001b[43mpg\u001b[49m\u001b[38;5;241;43m.\u001b[39;49m\u001b[43mrm_anova\u001b[49m\u001b[43m(\u001b[49m\n\u001b[0;32m     13\u001b[0m \u001b[43m    \u001b[49m\u001b[43mdv\u001b[49m\u001b[38;5;241;43m=\u001b[39;49m\u001b[38;5;124;43m'\u001b[39;49m\u001b[38;5;124;43mHITS\u001b[39;49m\u001b[38;5;124;43m'\u001b[39;49m\u001b[43m,\u001b[49m\u001b[43m  \u001b[49m\u001b[38;5;66;43;03m# Dependent variable\u001b[39;49;00m\n\u001b[0;32m     14\u001b[0m \u001b[43m    \u001b[49m\u001b[43mwithin\u001b[49m\u001b[38;5;241;43m=\u001b[39;49m\u001b[43m[\u001b[49m\u001b[38;5;124;43m'\u001b[39;49m\u001b[38;5;124;43mStimulus Duration\u001b[39;49m\u001b[38;5;124;43m'\u001b[39;49m\u001b[43m,\u001b[49m\u001b[43m \u001b[49m\u001b[38;5;124;43m'\u001b[39;49m\u001b[38;5;124;43mDistractor Condition\u001b[39;49m\u001b[38;5;124;43m'\u001b[39;49m\u001b[43m]\u001b[49m\u001b[43m,\u001b[49m\u001b[43m  \u001b[49m\u001b[38;5;66;43;03m# Within-subject factors\u001b[39;49;00m\n\u001b[0;32m     15\u001b[0m \u001b[43m    \u001b[49m\u001b[43msubject\u001b[49m\u001b[38;5;241;43m=\u001b[39;49m\u001b[38;5;124;43m'\u001b[39;49m\u001b[38;5;124;43mAnimal No\u001b[39;49m\u001b[38;5;124;43m'\u001b[39;49m\u001b[43m,\u001b[49m\u001b[43m  \u001b[49m\u001b[38;5;66;43;03m# Subject identifier\u001b[39;49;00m\n\u001b[0;32m     16\u001b[0m \u001b[43m    \u001b[49m\u001b[43mbetween\u001b[49m\u001b[38;5;241;43m=\u001b[39;49m\u001b[38;5;124;43m'\u001b[39;49m\u001b[38;5;124;43mPhenotype\u001b[39;49m\u001b[38;5;124;43m'\u001b[39;49m\u001b[43m,\u001b[49m\u001b[43m  \u001b[49m\u001b[38;5;66;43;03m# Between-subject factor\u001b[39;49;00m\n\u001b[0;32m     17\u001b[0m \u001b[43m    \u001b[49m\u001b[43mdata\u001b[49m\u001b[38;5;241;43m=\u001b[39;49m\u001b[43mtidy_hits_data\u001b[49m\u001b[43m,\u001b[49m\u001b[43m  \u001b[49m\u001b[38;5;66;43;03m# Dataframe with tidy data\u001b[39;49;00m\n\u001b[0;32m     18\u001b[0m \u001b[43m    \u001b[49m\u001b[43mdetailed\u001b[49m\u001b[38;5;241;43m=\u001b[39;49m\u001b[38;5;28;43;01mTrue\u001b[39;49;00m\n\u001b[0;32m     19\u001b[0m \u001b[43m)\u001b[49m\n\u001b[0;32m     21\u001b[0m \u001b[38;5;66;03m# Print the results\u001b[39;00m\n\u001b[0;32m     22\u001b[0m \u001b[38;5;28mprint\u001b[39m(rm_anova_results)\n",
      "\u001b[1;31mTypeError\u001b[0m: rm_anova() got an unexpected keyword argument 'between'"
     ]
    }
   ],
   "source": [
    "import pandas as pd\n",
    "import pingouin as pg\n",
    "\n",
    "# Assuming the tidy data is loaded in a DataFrame called `tidy_data`\n",
    "# Make sure the data includes columns: 'HITS', 'Stimulus Duration', 'Distractor Condition', 'Phenotype', 'Animal No'\n",
    "\n",
    "# Filter the data for HITS and drop any rows with missing values\n",
    "tidy_hits_data = data.dropna(subset=['HITS'])\n",
    "\n",
    "# Run the repeated measures ANOVA using pingouin\n",
    "# 'Stimulus Duration' and 'Distractor Condition' are within-subject factors, 'Phenotype' is a between-subject factor\n",
    "rm_anova_results = pg.rm_anova(\n",
    "    dv='HITS',  # Dependent variable\n",
    "    within=['Stimulus Duration', 'Distractor Condition'],  # Within-subject factors\n",
    "    subject='Animal No',  # Subject identifier\n",
    "    between='Phenotype',  # Between-subject factor\n",
    "    data=tidy_hits_data,  # Dataframe with tidy data\n",
    "    detailed=True\n",
    ")\n",
    "\n",
    "# Print the results\n",
    "print(rm_anova_results)\n",
    "\n"
   ]
  },
  {
   "cell_type": "code",
   "execution_count": null,
   "metadata": {},
   "outputs": [],
   "source": []
  }
 ],
 "metadata": {
  "kernelspec": {
   "display_name": "Python 3",
   "language": "python",
   "name": "python3"
  },
  "language_info": {
   "codemirror_mode": {
    "name": "ipython",
    "version": 3
   },
   "file_extension": ".py",
   "mimetype": "text/x-python",
   "name": "python",
   "nbconvert_exporter": "python",
   "pygments_lexer": "ipython3",
   "version": "3.8.10"
  }
 },
 "nbformat": 4,
 "nbformat_minor": 2
}
